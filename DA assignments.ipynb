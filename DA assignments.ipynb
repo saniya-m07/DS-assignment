{
 "cells": [
  {
   "cell_type": "code",
   "execution_count": null,
   "id": "60e8af8b-2fe5-4e7e-819e-1be6dbfef93e",
   "metadata": {},
   "outputs": [],
   "source": [
    "import pandas as pd\n",
    "import requests\n",
    "import matplotlib.pyplot as plt\n",
    "from bs4 import BeautifulSoup"
   ]
  },
  {
   "cell_type": "code",
   "execution_count": null,
   "id": "a956a662-4092-4721-b5f7-14fefbfb55b4",
   "metadata": {},
   "outputs": [],
   "source": [
    "presponse = requests._('https://visaguide.world/europe/')"
   ]
  },
  {
   "cell_type": "code",
   "execution_count": null,
   "id": "eca28ffd-82ec-40d2-b493-c8493c6b7461",
   "metadata": {},
   "outputs": [],
   "source": [
    "gdpresponse = requests._('https://en.m.wikipedia.org/wiki/List_of_sovereign_states_in_Europe_by_GDP_(nominal)')"
   ]
  },
  {
   "cell_type": "code",
   "execution_count": null,
   "id": "57cb4ea0-0157-4ad0-8565-d4cd9a913adc",
   "metadata": {},
   "outputs": [],
   "source": [
    "popsoup = BeautifulSoup(___, 'html.parser')"
   ]
  },
  {
   "cell_type": "code",
   "execution_count": null,
   "id": "367932bc-aac1-4ddf-bc00-75fd318dcd34",
   "metadata": {},
   "outputs": [],
   "source": [
    "gdpsoup = BeautifulSoup(__, 'html.parser')"
   ]
  },
  {
   "cell_type": "code",
   "execution_count": null,
   "id": "cc9a11a0-63d6-4913-b3d2-e42769192c25",
   "metadata": {},
   "outputs": [],
   "source": [
    "gdpsoup = BeautifulSoup(__, 'html.parser')"
   ]
  },
  {
   "cell_type": "code",
   "execution_count": null,
   "id": "ec8e7dea-07d3-42de-8351-42299b9e014f",
   "metadata": {},
   "outputs": [],
   "source": [
    "gdptable=gdpsoup.__('table')"
   ]
  },
  {
   "cell_type": "code",
   "execution_count": null,
   "id": "6b017a08-438b-4b3d-81b9-bac2fc34882b",
   "metadata": {},
   "outputs": [],
   "source": [
    "popheadings = poptable[1].__('th')\n",
    "popheadings"
   ]
  },
  {
   "cell_type": "code",
   "execution_count": null,
   "id": "2bda7bce-92f2-4f7c-b4f6-63361ae29e0f",
   "metadata": {},
   "outputs": [],
   "source": [
    "gdpheadings=gdptable[0]__('th')\n",
    "gdpheadings"
   ]
  },
  {
   "cell_type": "code",
   "execution_count": null,
   "id": "e17ea169-da5e-49f2-a40c-610e6bbde8a7",
   "metadata": {},
   "outputs": [],
   "source": [
    "popheadings=[__ for i in popheadings]\n",
    "popheadings"
   ]
  },
  {
   "cell_type": "code",
   "execution_count": null,
   "id": "f2c8c19e-49db-4b80-aeba-bfdbf2e16179",
   "metadata": {},
   "outputs": [],
   "source": [
    "gdpheadings1=[__for i in gdpheadings]\n",
    "gdpheadings1"
   ]
  },
  {
   "cell_type": "code",
   "execution_count": null,
   "id": "de047a0d-57d8-4e88-be53-49687a85af7c",
   "metadata": {},
   "outputs": [],
   "source": [
    "gdpheadings=gdpheadings1__\n",
    "gdpheadings"
   ]
  },
  {
   "cell_type": "code",
   "execution_count": null,
   "id": "b00256fc-44cd-424f-af0d-f662cf87c48a",
   "metadata": {},
   "outputs": [],
   "source": [
    "gdpheadings[1]=gdpheadings[1][:4]"
   ]
  },
  {
   "cell_type": "code",
   "execution_count": null,
   "id": "7bddc4f1-3963-485a-803b-2c9a737b54d1",
   "metadata": {},
   "outputs": [],
   "source": [
    "gdpheadings"
   ]
  },
  {
   "cell_type": "code",
   "execution_count": null,
   "id": "5d376809-03c7-4b3b-b77e-34931b505603",
   "metadata": {},
   "outputs": [],
   "source": [
    "poprows=poptable[1].___('td')\n",
    "poprows"
   ]
  },
  {
   "cell_type": "code",
   "execution_count": null,
   "id": "e9ee55e0-96d4-4a17-90b8-fadbe31a6578",
   "metadata": {},
   "outputs": [],
   "source": [
    "poprows=[___for i in poprows]\n",
    "poprows[:10]"
   ]
  },
  {
   "cell_type": "code",
   "execution_count": null,
   "id": "537ef147-35a5-47bd-bfaa-419f1cde2cda",
   "metadata": {},
   "outputs": [],
   "source": [
    "gdprows=gdptable[0].___('td')\n",
    "gdprows"
   ]
  },
  {
   "cell_type": "code",
   "execution_count": null,
   "id": "82774699-b7a7-43b5-9ca9-590583c74952",
   "metadata": {},
   "outputs": [],
   "source": [
    "gdprows=[___ for i in gdprows]\n",
    "gdprows[0:50:16]"
   ]
  },
  {
   "cell_type": "code",
   "execution_count": null,
   "id": "fc57e059-9124-4cf5-ab5f-415a34c7f37b",
   "metadata": {},
   "outputs": [],
   "source": [
    "popdict={}\n",
    "n=0\n",
    "for i in popheadings:\n",
    "   popdict[i]=[___for j in range(n,len(poprows),____]\n",
    "   n+=1\n",
    "popdict"
   ]
  },
  {
   "cell_type": "code",
   "execution_count": null,
   "id": "5ced59ab-ecde-4bc8-8ab8-880e3f2ef320",
   "metadata": {},
   "outputs": [],
   "source": [
    "gdpdict={}\n",
    "n=0\n",
    "for i in gdpheadings:\n",
    "    gdpdict[i]=[___for j in range(n,len(gdprows),len(gdpheadings1))]\n",
    "    n+=1\n",
    "gdpdict"
   ]
  },
  {
   "cell_type": "code",
   "execution_count": null,
   "id": "db6bc7c9-930a-44e9-8d55-2707ed2635db",
   "metadata": {},
   "outputs": [],
   "source": [
    "popdf = pd.____popdict)\n",
    "gdpdf = pd.____(gdpdict)"
   ]
  },
  {
   "cell_type": "code",
   "execution_count": null,
   "id": "e28a929b-070a-47bf-a116-b711187aec7c",
   "metadata": {},
   "outputs": [],
   "source": [
    "popdf"
   ]
  },
  {
   "cell_type": "code",
   "execution_count": null,
   "id": "84282cf5-8c3b-4284-8206-7ccf3606471d",
   "metadata": {},
   "outputs": [],
   "source": [
    "popdf"
   ]
  },
  {
   "cell_type": "code",
   "execution_count": null,
   "id": "b5d01a7e-a60a-405f-a5be-e44eac266174",
   "metadata": {},
   "outputs": [],
   "source": [
    "gdpdf"
   ]
  },
  {
   "cell_type": "code",
   "execution_count": null,
   "id": "f0d363d0-a22f-4cde-846d-6ecaffb83834",
   "metadata": {},
   "outputs": [],
   "source": [
    "gdpdf1=gdpdf.copy()"
   ]
  },
  {
   "cell_type": "code",
   "execution_count": null,
   "id": "7da583d2-ba2a-46f0-b7a2-54f665626c65",
   "metadata": {},
   "outputs": [],
   "source": [
    "gdpdf"
   ]
  },
  {
   "cell_type": "code",
   "execution_count": null,
   "id": "15c6b3fd-6e58-4de0-add3-7083d2ebeef9",
   "metadata": {},
   "outputs": [],
   "source": [
    "popdf.rename(____________)\n",
    "popdf"
   ]
  },
  {
   "cell_type": "code",
   "execution_count": null,
   "id": "be4a44f8-5c0a-42f3-95e2-4645acdd7b9a",
   "metadata": {},
   "outputs": [],
   "source": [
    "for i in range(len(popdf['Population'])):\n",
    "    if 'million' in popdf['Population'][i]:\n",
    "       popdf['Population'][i]=float(popdf['Population'][i].replace('million',''))*10**6\n",
    "\n",
    "    else:\n",
    "       popdf['Population'][i]=popdf['Population'][i].____(\".\",\"\")\n",
    "       popdf['Population'][i]=popdf['Population'][i].____(\",\", \"\")\n",
    "popdf"
   ]
  },
  {
   "cell_type": "code",
   "execution_count": null,
   "id": "89211f6a-7f64-42c1-ae55-92299ee3fb41",
   "metadata": {},
   "outputs": [],
   "source": [
    "popdf['Population']=popdf['Population'].astype(float).round(2)"
   ]
  },
  {
   "cell_type": "code",
   "execution_count": null,
   "id": "936db305-6f8f-4c09-9627-4685f1d9ef86",
   "metadata": {},
   "outputs": [],
   "source": [
    "for i in range(len(popdf['Area'])):\n",
    "    if 'km²' in popdf['Area']___:\n",
    "       popdf['Area'][i]=popdf['Area'][i].replace(',','')\n",
    "       popdf['Area'][i]=float(popdf['Area'][i].replace('km²',''))\n",
    "\n",
    "popdf"
   ]
  },
  {
   "cell_type": "code",
   "execution_count": null,
   "id": "1c8a1089-2fb7-4dd6-b173-da540529b3c7",
   "metadata": {},
   "outputs": [],
   "source": [
    "popdf['Population Density']=popdf['Population']/____\n",
    "popdf"
   ]
  },
  {
   "cell_type": "code",
   "execution_count": null,
   "id": "8786d58a-92f4-4279-870d-992970633d4c",
   "metadata": {},
   "outputs": [],
   "source": [
    "finaldata =pd.merge(_____)\n",
    "finaldata"
   ]
  },
  {
   "cell_type": "code",
   "execution_count": null,
   "id": "a8e6584d-14bc-4f49-9127-1f76283aebf5",
   "metadata": {},
   "outputs": [],
   "source": [
    "gdpdf=gdpdf.sort_values(by = 'Country')\n",
    "popdf=popdf.sort_values(by = 'Country')"
   ]
  },
  {
   "cell_type": "code",
   "execution_count": null,
   "id": "bfbc0810-582d-47e8-ac12-d678ddf952ea",
   "metadata": {},
   "outputs": [],
   "source": [
    "gdpdf.head(10)"
   ]
  },
  {
   "cell_type": "code",
   "execution_count": null,
   "id": "1f78b345-eed2-47aa-b037-faa81b6d35d6",
   "metadata": {},
   "outputs": [],
   "source": [
    "finaldata['2024']=finaldata['2024'].str.replace(\",\",\"\").astype(float).round(2)"
   ]
  },
  {
   "cell_type": "code",
   "execution_count": null,
   "id": "56025eca-c53a-4bb8-bc60-e90029294a0a",
   "metadata": {},
   "outputs": [],
   "source": [
    "finaldata['GDP per capita']=finaldata['2024']*10**9/_______\n",
    "finaldata"
   ]
  },
  {
   "cell_type": "code",
   "execution_count": null,
   "id": "116ad59b-fc46-4554-ab90-79e633de1f80",
   "metadata": {},
   "outputs": [],
   "source": [
    "dff = finaldata[['Population','Population Density','GDP per capita','2024']]\n",
    "\n",
    "dff = dff._____.round(2)\n",
    "\n",
    "dff['Country']=finaldata['Country'].values\n",
    "dff"
   ]
  },
  {
   "cell_type": "code",
   "execution_count": null,
   "id": "d8f07c8e-b3e8-46e4-8d5f-783cb296d5b6",
   "metadata": {},
   "outputs": [],
   "source": [
    "#Make scatter plot\n",
    "x = finaldata['Population Density']\n",
    "y = finaldata['GDP per capita']"
   ]
  },
  {
   "cell_type": "code",
   "execution_count": null,
   "id": "3bc12e77-15a1-4bce-bf92-cbde67e3c806",
   "metadata": {},
   "outputs": [],
   "source": [
    "#Makeheatmap\n",
    "import ____ as sns\n",
    "dff = finaldata[['Country','Population','Population Density','GDP per capita','2024']][:]\n",
    "dff = dff.___index(_____)\n",
    "plt.figure(figsize=(10,15))\n",
    "sns.heatmap(______)\n",
    "plt.show()"
   ]
  },
  {
   "cell_type": "code",
   "execution_count": null,
   "id": "a597640e-9bd4-4ca3-bd0b-82c8a546cbc6",
   "metadata": {},
   "outputs": [],
   "source": [
    "finaldata.sort_values(by='2024', ascending=False,inplace= ____)"
   ]
  },
  {
   "cell_type": "code",
   "execution_count": null,
   "id": "515ac166-1d5b-43f8-9b2b-326310ef9946",
   "metadata": {},
   "outputs": [],
   "source": [
    "dff = finaldata[['Population','Population Density','GDP per capita','2024']]\n",
    "\n",
    "dff = dff.____.round(2)\n",
    "\n",
    "dff['Country']=finaldata['Country'].values"
   ]
  },
  {
   "cell_type": "code",
   "execution_count": null,
   "id": "96f9b5fa-f6d5-4313-ba27-49a46474a0e9",
   "metadata": {},
   "outputs": [],
   "source": [
    "\n",
    "dfn= dff.set_index('Country')\n",
    "dfn = 1+(((dfn-dfn.min())/(dfn.max()-dfn.min()))*(5-1))\n",
    "\n",
    "plt.figure(figsize=(10,15))\n",
    "sns.heatmap(____)\n",
    "plt.show()"
   ]
  },
  {
   "cell_type": "code",
   "execution_count": null,
   "id": "afafbc14-3abe-439f-bac6-691027d83e99",
   "metadata": {},
   "outputs": [],
   "source": [
    "#Store in csv\n",
    "finaldata.___(\"europedata.csv\")"
   ]
  },
  {
   "cell_type": "code",
   "execution_count": null,
   "id": "c366a8f1-aff7-4141-aa7e-46b0a3146cf8",
   "metadata": {},
   "outputs": [],
   "source": [
    "df_scaled = dff.set_index('Country')\n",
    "df_scaled = (df_scaled - df_scaled.mean()) / df_scaled.std()\n",
    "plt.figure(figsize=(10,15))\n",
    "sns.heatmap(___________)\n",
    "plt.show()"
   ]
  },
  {
   "cell_type": "code",
   "execution_count": null,
   "id": "660e83d5-7c99-4115-9525-4173cb906f25",
   "metadata": {},
   "outputs": [],
   "source": [
    "\n",
    "\n",
    "# Apply filtering conditions on the scaled dataframe\n",
    "filtered_dfn = dfn[\n",
    "    (dfn['Population Density'] > 1.3) &\n",
    "    (dfn['Population'] > 1.5) &\n",
    "    (dfn['2024'] > 1.3) &\n",
    "    (dfn['GDP per capita'] > 1.5)\n",
    "]\n",
    "\n",
    "# Plot heatmap for the filtered countries\n",
    "plt.figure(figsize=(10, 6))  # Adjust size if needed\n",
    "sns.heatmap(_______)\n",
    "\n",
    "# Show the heatmap\n",
    "plt.title(\"Heatmap of Selected Countries\")\n",
    "plt.show()"
   ]
  },
  {
   "cell_type": "code",
   "execution_count": null,
   "id": "ee52ec2c-5f04-41e9-9538-6937fb19d53c",
   "metadata": {},
   "outputs": [],
   "source": [
    "\n",
    "\n",
    "# Load the dataset\n",
    "\n",
    "\n",
    "# Rename columns for clarity\n",
    "\n",
    "\n",
    "# Select relevant columns for analysis\n",
    "df_selected = data[[\"Country\", \"Population\", \"Population Density\", \"GDP per capita\", \"GDP (Billion)\"]]\n",
    "\n",
    "# Define weights for scoring\n",
    "weights = {\n",
    "    \"GDP per capita\": 0.4,     # Higher purchasing power\n",
    "    \"Population\": 0.3,         # Large customer base\n",
    "    \"Population Density\": 0.2, # Urbanization & foot traffic\n",
    "    \"GDP (Billion)\": 0.1       # Economic stability\n",
    "}\n",
    "\n",
    "# Normalize data using Min-Max Scaling\n",
    "df_normalized = df_selected.copy()\n",
    "for col in weights.keys():\n",
    "    df_normalized[col] = (df_normalized[col] - df_normalized[col].min()) / (df_normalized[col].max() - df_normalized[col].min())\n",
    "\n",
    "# Compute the Retail Score using weighted sum\n",
    "df_normalized[\"Retail Score\"] = sum(df_normalized[col] * weight for col, weight in weights.items())\n",
    "\n",
    "# Get top 10 countries for retail expansion\n",
    "top_10_countries = df_normalized.nlargest(10, \"Retail Score\")[[\"Country\", \"Retail Score\"]]\n",
    "\n",
    "# Filter the dataset to include only these top 10 countries\n",
    "df_top_10 = df_normalized[df_normalized[\"Country\"].isin(top_10_countries[\"Country\"])]\n",
    "\n",
    "# Set Country as index for visualization\n",
    "df_top_10 = df_top_10.set_index(\"Country\")\n",
    "\n",
    "# Heatmap for only the top 10 countries\n",
    "plt.figure(figsize=(12, 8))\n",
    "sns.heatmap(________)\n",
    "plt.title(\"Retail Expansion Potential - Top 10 Countries\")\n",
    "plt.show()"
   ]
  },
  {
   "cell_type": "code",
   "execution_count": null,
   "id": "b49adaab-0f6c-45be-8447-58c6b3f05d6f",
   "metadata": {},
   "outputs": [],
   "source": [
    "\n",
    "#Load dataset\n",
    "\n",
    "# Rename columns for clarity\n",
    "\n",
    "\n",
    "# Select relevant columns for analysis\n",
    "df_selected = data2[[\"Country\", \"Population\", \"Population Density\", \"GDP per capita\", \"GDP (Billion)\"]]\n",
    "\n",
    "# Define weights for scoring\n",
    "weights = {\n",
    "    \"GDP per capita\": 0.4,     # Higher purchasing power\n",
    "    \"Population\": 0.2,         # Large customer base\n",
    "    \"Population Density\": 0.2, # Urbanization & foot traffic\n",
    "    \"GDP (Billion)\": 0.2       # Economic stability\n",
    "}\n",
    "\n",
    "# Normalize data using Min-Max Scaling (but scaled between 1 and 5 instead of 0 and 1)\n",
    "df_scaled = df_selected.copy()\n",
    "for col in weights.keys():\n",
    "    df_scaled[col] = 1 + 4 * (df_scaled[col] - df_scaled[col].min()) / (df_scaled[col].max() - df_scaled[col].min())\n",
    "\n",
    "# Compute the Retail Score using weighted sum\n",
    "df_scaled[\"Retail Score\"] = sum(df_scaled[col] * weight for col, weight in weights.items())\n",
    "\n",
    "# Get top 10 countries for retail expansion\n",
    "top_10_countries = df_scaled.nlargest(10, \"Retail Score\")[[\"Country\", \"Retail Score\"]]\n",
    "\n",
    "# Filter the dataset to include only these top 10 countries\n",
    "df_top_10 = df_scaled[df_scaled[\"Country\"].isin(top_10_countries[\"Country\"])]\n",
    "\n",
    "# Set Country as index for visualization\n",
    "df_top_10 = df_top_10.set_index(\"Country\")\n",
    "\n",
    "# Heatmap for only the top 10 countries (with values between 1 and 5)\n",
    "plt.figure(figsize=(12, 8))\n",
    "sns.heatmap(_____)\n",
    "plt.title(\"Retail Expansion Potential - Top 10 Countries (Scaled 1 to 5)\")\n",
    "plt.show()"
   ]
  },
  {
   "cell_type": "code",
   "execution_count": null,
   "id": "b38c0a88-d3d2-4155-8c65-8a9a0d5a6154",
   "metadata": {},
   "outputs": [],
   "source": [
    "\n",
    "#Load the dataset\n",
    "\n",
    "# Rename columns for clarity\n",
    "\n",
    "# Select relevant columns for analysis\n",
    "df_selected = data3[[\"Country\", \"Population\", \"Population Density\", \"GDP per capita\", \"GDP (Billion)\"]]\n",
    "\n",
    "# Define updated weights\n",
    "weights = {\n",
    "    \"GDP per capita\": 0.3,     # Purchasing power\n",
    "    \"Population\": 0.15,        # Market size\n",
    "    \"Population Density\": 0.15,# Urbanization & foot traffic\n",
    "    \"GDP (Billion)\": 0.4       # Economic stability & growth\n",
    "}\n",
    "\n",
    "# Normalize data using Min-Max Scaling (Scaled between 1 and 5)\n",
    "df_scaled = df_selected.copy()\n",
    "for col in weights.keys():\n",
    "    df_scaled[col] = 1 + 4 * (df_scaled[col] - df_scaled[col].min()) / (df_scaled[col].max() - df_scaled[col].min())\n",
    "\n",
    "# Compute the new Retail Score using weighted sum\n",
    "df_scaled[\"Retail Score\"] = sum(df_scaled[col] * weight for col, weight in weights.items())\n",
    "\n",
    "# Get top 10 countries for retail expansion based on new weights\n",
    "top_10_countries = df_scaled.nlargest(10, \"Retail Score\")[[\"Country\", \"Retail Score\"]]\n",
    "\n",
    "# Filter the dataset to include only the top 10 countries\n",
    "df_top_10 = df_scaled[df_scaled[\"Country\"].isin(top_10_countries[\"Country\"])].set_index(\"Country\")\n",
    "\n",
    "# Heatmap for the top 10 countries (values scaled between 1 and 5)\n",
    "plt.figure(figsize=(12, 8))\n",
    "sns.heatmap(________)\n",
    "\n",
    "# Title and show plot\n",
    "plt.title(\"Retail Expansion Potential - Top 10 Countries (Scaled 1 to 5)\")\n",
    "plt.show()"
   ]
  },
  {
   "cell_type": "code",
   "execution_count": null,
   "id": "7871e04e-9046-4450-9e61-2d96c9658cad",
   "metadata": {},
   "outputs": [],
   "source": [
    "\n",
    "df = pd.read_csv(file_path)\n",
    "\n",
    "\n",
    "# Select relevant columns for analysis\n",
    "df_selected = data[[\"Country\", \"Population\", \"Population Density\", \"GDP per capita\", \"GDP (Billion)\"]]\n",
    "\n",
    "# Define updated weights\n",
    "weights = {\n",
    "    \"GDP per capita\": 0.3,     # Purchasing power\n",
    "    \"Population\": 0.15,        # Market size\n",
    "    \"Population Density\": 0.15,# Urbanization & foot traffic\n",
    "    \"GDP (Billion)\": 0.4       # Economic stability & growth\n",
    "}\n",
    "\n",
    "# Normalize data using Min-Max Scaling (Scaled between 1 and 5)\n",
    "df_scaled = df_selected.copy()\n",
    "for col in weights.keys():\n",
    "    df_scaled[col] = 1 + 4 * (df_scaled[col] - df_scaled[col].min()) / (df_scaled[col].max() - df_scaled[col].min())\n",
    "\n",
    "# Compute the new Retail Score using weighted sum\n",
    "df_scaled[\"Retail Score\"] = sum(df_scaled[col] * weight for col, weight in weights.items())\n",
    "\n",
    "# Get top 10 countries for retail expansion based on new weights\n",
    "top_10_countries = df_scaled.nlargest(10, \"Retail Score\")\n",
    "\n",
    "# Sort by Retail Score before plotting\n",
    "df_top_10 = top_10_countries.set_index(\"Country\").sort_values(by=\"Retail Score\", ascending=False)\n",
    "\n",
    "# Heatmap for the top 10 countries (values scaled between 1 and 5)\n",
    "plt.figure(figsize=(12, 8))\n",
    "sns.heatmap(_________)\n",
    "\n",
    "# Title and show plot\n",
    "plt.title(\"Retail Expansion Potential - Top 10 Countries (Sorted by Retail Score)\")\n",
    "plt.show()"
   ]
  },
  {
   "cell_type": "code",
   "execution_count": null,
   "id": "ba60cdd3-e297-426c-816f-8ee7a8b0fea1",
   "metadata": {},
   "outputs": [],
   "source": []
  }
 ],
 "metadata": {
  "kernelspec": {
   "display_name": "Python 3 (ipykernel)",
   "language": "python",
   "name": "python3"
  },
  "language_info": {
   "codemirror_mode": {
    "name": "ipython",
    "version": 3
   },
   "file_extension": ".py",
   "mimetype": "text/x-python",
   "name": "python",
   "nbconvert_exporter": "python",
   "pygments_lexer": "ipython3",
   "version": "3.12.7"
  }
 },
 "nbformat": 4,
 "nbformat_minor": 5
}
